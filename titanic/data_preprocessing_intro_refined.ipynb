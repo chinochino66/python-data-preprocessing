{
 "cells": [
  {
   "cell_type": "code",
   "execution_count": null,
   "id": "4aa5a458-1fe0-43f3-8623-2fa0f4e05ebd",
   "metadata": {},
   "outputs": [],
   "source": [
    "# 目的\n",
    "このノートブックは、Titanic（タイタニック号の乗客データ）を使って、\n",
    "機械学習用に使いやすくするための「前処理」と「データを理解するための簡単なグラフ」を作る。\n",
    "\n",
    "# データ概要\n",
    "- データ: train.csv (891行 × 12列)\n",
    "- 目的変数: Survived (生存: 0=死亡, 1=生存)\n",
    "- 主な特徴量:\n",
    "  - Pclass: 客室クラス (1〜3)\n",
    "  - Sex: 性別\n",
    "  - Age: 年齢\n",
    "  - SibSp: 同乗した兄弟/配偶者の数\n",
    "  - Parch: 同乗した親/子供の数\n",
    "  - Fare: 運賃\n",
    "  - Embarked: 乗船した港 (S, C, Q)\n",
    "- 前処理済みデータ: cleaned_titanic.csv (891行 × 11列)\n",
    "\n",
    "- Ageは中央値で補完：外れ値耐性のため\n",
    "- Embarkedは最頻値：欠損2件で全体傾向を崩さない\n",
    "- Cabinは有無フラグ化：欠損多数で詳細は不採用\n",
    "- Sexは2値化、Embarkedはone-hot：順序誤解を防ぐ\n",
    "\n",
    "# 出力（後で再利用できる形）\n",
    "- 前処理後のCSV: cleaned_titanic.csv\n",
    "- 参考図: figs/age_hist.png, figs/sex_count.png, figs/corr_numeric.png"
   ]
  },
  {
   "cell_type": "code",
   "execution_count": null,
   "id": "58ee2d63-5eb3-459c-a6f0-2dd2a66a6a26",
   "metadata": {},
   "outputs": [],
   "source": [
    "# 1. データ読込\n",
    "# 2. データの状態確認（欠損・型・ざっくり統計）\n",
    "# 3. 前処理（欠損補完・変換）\n",
    "# 4. 可視化で全体をつかむ（EDA）\n",
    "# 5. 前処理後のデータを書き出し\n",
    "# 6. 相関ヒートマップ"
   ]
  },
  {
   "cell_type": "code",
   "execution_count": 33,
   "id": "ea1aca42-ec73-4234-b5a8-2cdb4f16ead4",
   "metadata": {},
   "outputs": [
    {
     "name": "stdout",
     "output_type": "stream",
     "text": [
      "C:\\Users\\chino\\pystudy\\python-data-preprocessing\n",
      "行数・列数: (891, 12)\n",
      "\n",
      "欠損数（多い順）:\n",
      "Cabin          687\n",
      "Age            177\n",
      "Embarked         2\n",
      "PassengerId      0\n",
      "Name             0\n",
      "Pclass           0\n",
      "Survived         0\n",
      "Sex              0\n",
      "Parch            0\n",
      "SibSp            0\n",
      "Fare             0\n",
      "Ticket           0\n",
      "dtype: int64\n",
      "\n",
      "データ型:\n",
      "PassengerId      int64\n",
      "Survived         int64\n",
      "Pclass           int64\n",
      "Name            object\n",
      "Sex             object\n",
      "Age            float64\n",
      "SibSp            int64\n",
      "Parch            int64\n",
      "Ticket          object\n",
      "Fare           float64\n",
      "Cabin           object\n",
      "Embarked        object\n",
      "dtype: object\n",
      "\n",
      "数値列の統計量:\n",
      "       PassengerId    Survived      Pclass         Age       SibSp  \\\n",
      "count   891.000000  891.000000  891.000000  714.000000  891.000000   \n",
      "mean    446.000000    0.383838    2.308642   29.699118    0.523008   \n",
      "std     257.353842    0.486592    0.836071   14.526497    1.102743   \n",
      "min       1.000000    0.000000    1.000000    0.420000    0.000000   \n",
      "25%     223.500000    0.000000    2.000000   20.125000    0.000000   \n",
      "50%     446.000000    0.000000    3.000000   28.000000    0.000000   \n",
      "75%     668.500000    1.000000    3.000000   38.000000    1.000000   \n",
      "max     891.000000    1.000000    3.000000   80.000000    8.000000   \n",
      "\n",
      "            Parch        Fare  \n",
      "count  891.000000  891.000000  \n",
      "mean     0.381594   32.204208  \n",
      "std      0.806057   49.693429  \n",
      "min      0.000000    0.000000  \n",
      "25%      0.000000    7.910400  \n",
      "50%      0.000000   14.454200  \n",
      "75%      0.000000   31.000000  \n",
      "max      6.000000  512.329200  \n",
      "\n",
      "カテゴリ列のユニーク数:\n",
      "Name        891\n",
      "Sex           2\n",
      "Ticket      681\n",
      "Cabin       147\n",
      "Embarked      3\n",
      "dtype: int64\n"
     ]
    }
   ],
   "source": [
    "import os\n",
    "os.makedirs(\"figs\", exist_ok=True)\n",
    "%cd \"C:\\Users\\chino\\pystudy\\python-data-preprocessing\"\n",
    "\n",
    "# 1. データ読込\n",
    "import pandas as pd\n",
    "df = pd.read_csv(\"train.csv\")\n",
    "\n",
    "# 2. データの状態確認（欠損・型・ざっくり統計）\n",
    "print(\"行数・列数:\", df.shape)\n",
    "print(\"\\n欠損数（多い順）:\"); print(df.isna().sum().sort_values(ascending=False))\n",
    "print(\"\\nデータ型:\"); print(df.dtypes)\n",
    "print(\"\\n数値列の統計量:\"); print(df.describe())\n",
    "print(\"\\nカテゴリ列のユニーク数:\"); print(df.select_dtypes(exclude=[\"number\"]).nunique())"
   ]
  },
  {
   "cell_type": "code",
   "execution_count": 29,
   "id": "f5c76180-494e-4e7e-89d1-fd9657cc9b49",
   "metadata": {},
   "outputs": [
    {
     "name": "stdout",
     "output_type": "stream",
     "text": [
      "saved: cleaned_titanic.csv\n",
      "   Survived  Pclass   Age  SibSp  Parch     Fare  HasCabin  Sex_female  \\\n",
      "0         0       3  22.0      1      0   7.2500         0           0   \n",
      "1         1       1  38.0      1      0  71.2833         1           1   \n",
      "2         1       3  26.0      0      0   7.9250         0           1   \n",
      "3         1       1  35.0      1      0  53.1000         1           1   \n",
      "4         0       3  35.0      0      0   8.0500         0           0   \n",
      "\n",
      "   Embarked_C  Embarked_Q  Embarked_S  \n",
      "0           0           0           1  \n",
      "1           1           0           0  \n",
      "2           0           0           1  \n",
      "3           0           0           1  \n",
      "4           0           0           1  \n",
      "shape: (891, 11)\n"
     ]
    }
   ],
   "source": [
    "# 3. 前処理（欠損補完・変換）\n",
    "\n",
    "# Age：外れ値に強い中央値で埋める\n",
    "df[\"Age\"] = df[\"Age\"].fillna(df[\"Age\"].median())\n",
    "\n",
    "# Embarked：欠損は2件だけ→最頻値で埋める\n",
    "df[\"Embarked\"] = df[\"Embarked\"].fillna(df[\"Embarked\"].mode()[0])\n",
    "\n",
    "# Cabin：詳細は欠損だらけ→「記録があるか」を0/1化\n",
    "df[\"HasCabin\"] = df[\"Cabin\"].notna().astype(int)\n",
    "\n",
    "# ===== ② 文字を数値へ =====\n",
    "# Sex：female=1, male=0（2値）\n",
    "df[\"Sex_female\"] = (df[\"Sex\"] == \"female\").astype(int)\n",
    "\n",
    "# Embarked：順序を持たせないため one-hot（S/C/Q をそれぞれ列に）\n",
    "emb = pd.get_dummies(df[\"Embarked\"], prefix=\"Embarked\", dtype=int)\n",
    "df = pd.concat([df, emb], axis=1)\n",
    "\n",
    "# ===== ③ 使わない列を落とす（今回の練習では）=====\n",
    "drop_cols = [\"Name\", \"Ticket\", \"Cabin\", \"PassengerId\", \"Sex\", \"Embarked\"]\n",
    "df_clean = df.drop(columns=drop_cols)\n",
    "\n",
    "# ===== ④ 保存（あとで学習に使える形）=====\n",
    "df_clean.to_csv(\"cleaned_titanic.csv\", index=False)\n",
    "print(\"saved:\", \"cleaned_titanic.csv\")\n",
    "\n",
    "# 確認\n",
    "print(df_clean.head())\n",
    "print(\"shape:\", df_clean.shape)"
   ]
  },
  {
   "cell_type": "code",
   "execution_count": 31,
   "id": "db0d5e83-6178-4b9c-b9e5-fe5a917ec99d",
   "metadata": {},
   "outputs": [
    {
     "name": "stdout",
     "output_type": "stream",
     "text": [
      "Saved: figs/age_hist.png, figs/sex_count.png\n"
     ]
    }
   ],
   "source": [
    "# 4. 可視化で全体をつかむ（EDA）\n",
    "# 5. 前処理後のデータを書き出し\n",
    "\n",
    "import os, matplotlib.pyplot as plt, seaborn as sns\n",
    "os.makedirs(\"figs\", exist_ok=True)\n",
    "\n",
    "# 年齢ヒストグラム\n",
    "plt.figure(figsize=(6,4))\n",
    "plt.hist(df[\"Age\"].dropna(), bins=30, edgecolor=\"black\", color=\"skyblue\")\n",
    "plt.title(\"Age Distribution of Passengers\")\n",
    "plt.xlabel(\"Age (years)\")\n",
    "plt.ylabel(\"Number of passengers\")\n",
    "plt.tight_layout()\n",
    "plt.savefig(\"figs/age_hist.png\", dpi=150)\n",
    "plt.close()\n",
    "\n",
    "# 男女の人数（warning回避）\n",
    "plt.figure(figsize=(4,4))\n",
    "sns.countplot(data=df, x=\"Sex\", hue=\"Sex\", palette=\"Set2\", legend=False)\n",
    "plt.title(\"Passenger Count by Sex\")\n",
    "plt.xlabel(\"Sex\")\n",
    "plt.ylabel(\"Number of passengers\")\n",
    "plt.tight_layout()\n",
    "plt.savefig(\"figs/sex_count.png\", dpi=150)\n",
    "plt.close()\n",
    "\n",
    "print(\"Saved: figs/age_hist.png, figs/sex_count.png\")"
   ]
  },
  {
   "cell_type": "code",
   "execution_count": 32,
   "id": "a4572bb7-b1ea-46fc-8f0a-8f9f2ffe8427",
   "metadata": {},
   "outputs": [
    {
     "name": "stdout",
     "output_type": "stream",
     "text": [
      "Saved: figs/corr_numeric.png\n"
     ]
    }
   ],
   "source": [
    "\n",
    "\n",
    "plt.figure(figsize=(6,5))\n",
    "sns.heatmap(df_clean.corr(), annot=True, fmt=\".2f\", cmap=\"coolwarm\")\n",
    "plt.title(\"Correlation between numeric features\")\n",
    "plt.tight_layout()\n",
    "plt.savefig(\"figs/corr_numeric.png\", dpi=150)\n",
    "plt.close()\n",
    "\n",
    "print(\"Saved: figs/corr_numeric.png\")"
   ]
  }
 ],
 "metadata": {
  "kernelspec": {
   "display_name": "Python [conda env:base] *",
   "language": "python",
   "name": "conda-base-py"
  },
  "language_info": {
   "codemirror_mode": {
    "name": "ipython",
    "version": 3
   },
   "file_extension": ".py",
   "mimetype": "text/x-python",
   "name": "python",
   "nbconvert_exporter": "python",
   "pygments_lexer": "ipython3",
   "version": "3.13.5"
  }
 },
 "nbformat": 4,
 "nbformat_minor": 5
}
